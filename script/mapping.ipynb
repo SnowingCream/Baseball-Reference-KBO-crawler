{
 "cells": [
  {
   "cell_type": "code",
   "execution_count": 1,
   "id": "d1b65a63-180c-49b1-b7d5-338f0a941f6e",
   "metadata": {},
   "outputs": [],
   "source": [
    "import pandas as pd\n",
    "from unidecode import unidecode\n",
    "from helper.df_handler import kor_get_last, kor_update_last, kor_update_first, kor_handle_u, manual_check, eng_remove_jr, manual_merge, eng_handle_rare_last_name, recover_dash, eng_check_possible_match, eng_update_birthday"
   ]
  },
  {
   "cell_type": "code",
   "execution_count": 2,
   "id": "6e59accd-7de0-4948-9ee0-45dae224e39e",
   "metadata": {},
   "outputs": [],
   "source": [
    "df_st = pd.read_csv('../data/st_player.csv')\n",
    "df_br = pd.read_csv('../data/br_player.csv')"
   ]
  },
  {
   "cell_type": "code",
   "execution_count": 3,
   "id": "465ff3eb-cb04-4077-846e-7887e36def66",
   "metadata": {},
   "outputs": [],
   "source": [
    "# data generalization (statiz)\n",
    "df_st['name_eng'] = df_st['name_eng'].str.strip()             # remove whitespace around the name\n",
    "df_st['name_eng'] = df_st['name_eng'].str.replace('--', '-')  # change '--' to '-'\n",
    "df_st['name_eng'] = df_st['name_eng'].apply(recover_dash)     # manual addition of '-' for those who are missing it\n",
    "df_st['name_new'] = df_st['name_eng'].str.lower()             # lower all characters.\n",
    "df_st['name_new'] = df_st['name_new'].str.replace('-', ' ')   # remove '-'.\n",
    "df_st['name_new'] = df_st['name_new'].apply(unidecode)        # decode with unicode to remove accents.\n",
    "df_st = df_st.apply(manual_check, axis=1)                     # manual manipulation for unconventional cases (order matters! must be here)\n",
    "df_st['name_new'] = df_st['name_new'].str.replace('young', 'yeong')\n",
    "df_st['name_new'] = df_st['name_new'].str.replace('yung', 'yeong')\n",
    "df_st['name_new'] = df_st['name_new'].str.replace('  ', ' ')  # change '  ' to ' '\n",
    "df_st['name_new'] = df_st['name_new'].apply(kor_update_last)  # generalize the last name\n",
    "df_st['name_new'] = df_st['name_new'].apply(kor_update_first) # generalize the first name\n",
    "df_st['name_new'] = df_st['name_new'].apply(eng_remove_jr)    # remove 'Jr' at the end\n",
    "df_st = df_st.apply(eng_update_birthday, axis=1)              # birthday correction"
   ]
  },
  {
   "cell_type": "code",
   "execution_count": 4,
   "id": "4d3d7cab-e2ff-478b-a53e-23a0e9d3a88d",
   "metadata": {},
   "outputs": [],
   "source": [
    "# Micah Bowie in BR never played in KBO. It should have been Jesus Sanchez.\n",
    "correct_data = (\"Jesus Sanchez\", \"1974-10-11\", \"https://www.baseball-reference.com/players/s/sanchje01.shtml\")\n",
    "df_br.loc[df_br['name_eng'] == \"Micah Bowie\", :] = correct_data"
   ]
  },
  {
   "cell_type": "code",
   "execution_count": 5,
   "id": "d5b6be5c-4114-4125-840d-63281163b16d",
   "metadata": {},
   "outputs": [],
   "source": [
    "# data generalization (baseball reference)\n",
    "df_br['name_eng'] = df_br['name_eng'].str.strip()             # remove whitespace around the name\n",
    "df_br['name_eng'] = df_br['name_eng'].str.replace('--', '-')  # change '--' to '-'\n",
    "df_br['name_eng'] = df_br['name_eng'].apply(recover_dash)     # manual addition of '-' for those who are missing it\n",
    "df_br['name_new'] = df_br['name_eng'].str.lower()             # lower all characters.\n",
    "df_br['name_new'] = df_br['name_new'].str.replace('-', ' ')   # remove '-'.\n",
    "df_br['name_new'] = df_br['name_new'].apply(unidecode)        # decode with unicode to remove accents.\n",
    "df_br = df_br.apply(manual_check, axis=1)                     # manual manipulation for unconventional cases (order matters! must be here)\n",
    "df_br['name_new'] = df_br['name_new'].str.replace('young', 'yeong')\n",
    "df_br['name_new'] = df_br['name_new'].str.replace('yung', 'yeong')\n",
    "df_br['name_new'] = df_br['name_new'].str.replace('  ', ' ')  # change '  ' to ' '\n",
    "df_br['name_new'] = df_br['name_new'].apply(kor_update_last)  # generalize the Korean last name\n",
    "df_br['name_new'] = df_br['name_new'].apply(kor_update_first) # generalize the Korean first name\n",
    "df_br['name_new'] = df_br['name_new'].apply(eng_remove_jr)    # remove 'Jr' at the end"
   ]
  },
  {
   "cell_type": "code",
   "execution_count": 6,
   "id": "74be05ef-902f-4ddd-a374-5316151c9a45",
   "metadata": {},
   "outputs": [],
   "source": [
    "# first merge after generalization\n",
    "inner_join = pd.merge(df_br, df_st, on=['name_new', 'date_of_birth'], how='inner')\n",
    "outer_join = pd.merge(df_br, df_st, on=['name_new', 'date_of_birth'], how='outer')\n",
    "outer_join = outer_join[outer_join.isna().any(axis=1)] # outer_join is only to pick up left over. "
   ]
  },
  {
   "cell_type": "code",
   "execution_count": 7,
   "id": "e53264ee-f5ec-4800-a372-fa39bc4848b8",
   "metadata": {
    "scrolled": true
   },
   "outputs": [],
   "source": [
    "# manual merge process\n",
    "inner_join, outer_join = manual_merge(inner_join, outer_join, kor_handle_u)\n",
    "inner_join, outer_join = manual_merge(inner_join, outer_join, eng_handle_rare_last_name)\n",
    "inner_join, outer_join = manual_merge(inner_join, outer_join, eng_check_possible_match)\n",
    "inner_join, outer_join = manual_merge(inner_join, outer_join, eng_handle_rare_last_name)"
   ]
  },
  {
   "cell_type": "code",
   "execution_count": 8,
   "id": "b1d4c26b-90c1-43ae-9def-a2985fc6c248",
   "metadata": {},
   "outputs": [],
   "source": [
    "inner_join.to_csv('../data/merged.csv', index=False)  \n",
    "outer_join.to_csv('../data/left_off.csv', index=False)  "
   ]
  }
 ],
 "metadata": {
  "kernelspec": {
   "display_name": "Python 3 (ipykernel)",
   "language": "python",
   "name": "python3"
  },
  "language_info": {
   "codemirror_mode": {
    "name": "ipython",
    "version": 3
   },
   "file_extension": ".py",
   "mimetype": "text/x-python",
   "name": "python",
   "nbconvert_exporter": "python",
   "pygments_lexer": "ipython3",
   "version": "3.11.10"
  }
 },
 "nbformat": 4,
 "nbformat_minor": 5
}
