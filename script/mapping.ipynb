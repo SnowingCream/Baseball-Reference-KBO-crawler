{
 "cells": [
  {
   "cell_type": "code",
   "execution_count": null,
   "id": "d1b65a63-180c-49b1-b7d5-338f0a941f6e",
   "metadata": {},
   "outputs": [],
   "source": [
    "import pandas as pd"
   ]
  },
  {
   "cell_type": "code",
   "execution_count": null,
   "id": "6e59accd-7de0-4948-9ee0-45dae224e39e",
   "metadata": {},
   "outputs": [],
   "source": [
    "df_statiz = pd.read_csv('statiz_name_map.csv')\n",
    "df_br = pd.read_csv('player_url_map.csv')"
   ]
  }
 ],
 "metadata": {
  "kernelspec": {
   "display_name": "Python 3 (ipykernel)",
   "language": "python",
   "name": "python3"
  },
  "language_info": {
   "codemirror_mode": {
    "name": "ipython",
    "version": 3
   },
   "file_extension": ".py",
   "mimetype": "text/x-python",
   "name": "python",
   "nbconvert_exporter": "python",
   "pygments_lexer": "ipython3",
   "version": "3.11.10"
  }
 },
 "nbformat": 4,
 "nbformat_minor": 5
}
