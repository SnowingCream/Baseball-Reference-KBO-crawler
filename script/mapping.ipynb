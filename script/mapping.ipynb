{
 "cells": [
  {
   "cell_type": "code",
   "execution_count": 1,
   "id": "d1b65a63-180c-49b1-b7d5-338f0a941f6e",
   "metadata": {},
   "outputs": [],
   "source": [
    "import pandas as pd\n",
    "from unidecode import unidecode\n",
    "from helper.utils import kor_get_last, eng_get_first_and_last, kor_update_last"
   ]
  },
  {
   "cell_type": "code",
   "execution_count": 2,
   "id": "6e59accd-7de0-4948-9ee0-45dae224e39e",
   "metadata": {},
   "outputs": [],
   "source": [
    "df_st = pd.read_csv('../data/st_player.csv')\n",
    "df_br = pd.read_csv('../data/br_player.csv')"
   ]
  },
  {
   "cell_type": "code",
   "execution_count": 3,
   "id": "465ff3eb-cb04-4077-846e-7887e36def66",
   "metadata": {},
   "outputs": [
    {
     "name": "stdout",
     "output_type": "stream",
     "text": [
      "  name_kor        name_eng        name_new\n",
      "0      김일권     Il-Kwon Kim     il kwon kim\n",
      "1      김경훈  Kyung-Hoon Kim  kyung hoon kim\n",
      "2      조충열  Chung-Yeol Cho  chung yeol cho\n",
      "3      차영화   Young-Hwa Cha   young hwa cha\n",
      "4      김종모     Jong-Mo Kim     jong mo kim\n"
     ]
    }
   ],
   "source": [
    "# data normalization\n",
    "# 1. lower all characters.\n",
    "# 2. remove '-'.\n",
    "# 3. decode with unicode to remove accents.\n",
    "# 4. generalize the naming conventions to make sure there is a single way of notating a single Korean last name.\n",
    "df_st['name_new'] = df_st['name_eng'].str.lower().str.replace(\"-\", \" \").apply(unidecode).apply(kor_update_last)\n",
    "# extra normalization for non-Korean players to only keep the first and last name. \n",
    "df_st.loc[df_st['name_eng'].str.contains('-') == False, 'name_new'] = df_st.loc[df_st['name_eng'].str.contains('-') == False, 'name_new'].apply(eng_get_first_and_last)\n",
    "\n",
    "print(df_st.head(5))"
   ]
  },
  {
   "cell_type": "code",
   "execution_count": 5,
   "id": "d5b6be5c-4114-4125-840d-63281163b16d",
   "metadata": {},
   "outputs": [
    {
     "name": "stdout",
     "output_type": "stream",
     "text": [
      "           name_eng                                                url  \\\n",
      "0     Seung Han Ahn  https://www.baseball-reference.com/register/pl...   \n",
      "1    Raúl Alcántara  https://www.baseball-reference.com/register/pl...   \n",
      "2  Jordan Balazovic  https://www.baseball-reference.com/register/pl...   \n",
      "3     Kyu Bin Chang  https://www.baseball-reference.com/register/pl...   \n",
      "4      Ji Kang Choi  https://www.baseball-reference.com/register/pl...   \n",
      "\n",
      "           name_new  \n",
      "0     seung han ahn  \n",
      "1    raul alcantara  \n",
      "2  jordan balazovic  \n",
      "3      kyu bin jang  \n",
      "4      ji kang choi  \n"
     ]
    }
   ],
   "source": [
    "# data normalization\n",
    "# 1. lower all characters.\n",
    "# 2. remove '-'.\n",
    "# 3. decode with unicode to remove accents.\n",
    "# 4. generalize the naming conventions to make sure there is a single way of notating a single Korean last name.\n",
    "df_br['name_new'] = df_br['name_eng'].str.lower().str.replace(\"-\", \" \").apply(unidecode).apply(kor_update_last)\n",
    "\n",
    "# extra normalization for non-Korean players to only keep the first and last name. \n",
    "df_br.loc[df_br['name_eng'].str.contains('-') == False, 'name_new'] = df_br.loc[df_br['name_eng'].str.contains('-') == False, 'name_new'].apply(eng_get_first_and_last)\n",
    "\n",
    "print(df_br.head(5))"
   ]
  },
  {
   "cell_type": "code",
   "execution_count": 6,
   "id": "74be05ef-902f-4ddd-a374-5316151c9a45",
   "metadata": {},
   "outputs": [
    {
     "name": "stdout",
     "output_type": "stream",
     "text": [
      "         name_eng_x                                                url  \\\n",
      "0     Seung Han Ahn  https://www.baseball-reference.com/register/pl...   \n",
      "1    Raúl Alcántara  https://www.baseball-reference.com/register/pl...   \n",
      "2  Jordan Balazovic  https://www.baseball-reference.com/register/pl...   \n",
      "3      Ji Kang Choi  https://www.baseball-reference.com/register/pl...   \n",
      "4      Jong In Choi  https://www.baseball-reference.com/register/pl...   \n",
      "\n",
      "           name_new name_kor        name_eng_y  \n",
      "0     seung han ahn      안승한     Seung-Han Ahn  \n",
      "1    raul alcantara     알칸타라    Raul Alcántara  \n",
      "2  jordan balazovic     발라조빅  Jordan Balazovic  \n",
      "3      ji kang choi      최지강      Ji-Kang Choi  \n",
      "4      jong in choi      최종인      Jong-In Choi  \n",
      "1948\n"
     ]
    }
   ],
   "source": [
    "inner_join = pd.merge(df_br, df_st, on='name_new', how='inner')\n",
    "print(inner_join.head(5))\n",
    "print(len(inner_join))"
   ]
  },
  {
   "cell_type": "code",
   "execution_count": 10,
   "id": "f745d992-ab25-49a3-9383-48403dffdcc3",
   "metadata": {},
   "outputs": [
    {
     "name": "stdout",
     "output_type": "stream",
     "text": [
      "       name_eng_x       name_new name_kor     name_eng_y\n",
      "1   Aaron Altherr  aaron altherr      NaN            NaN\n",
      "4             NaN  aarona ltherr      알테어  AaronA LTHERR\n",
      "12    Ah-seop Son    ah seop son      NaN            NaN\n",
      "13            NaN     ah sub son      손아섭     Ah-Sub Son\n",
      "14      Al Martin      al martin      NaN            NaN\n",
      "3664\n"
     ]
    }
   ],
   "source": [
    "# outer_join is only to pick up left over. \n",
    "outer_join = pd.merge(df_br, df_st, on='name_new', how='outer')\n",
    "outer_join = outer_join.drop(columns=['url'])\n",
    "outer_join = outer_join[outer_join.isna().any(axis=1)]\n",
    "print(outer_join.head(5))\n",
    "print(len(outer_join))"
   ]
  },
  {
   "cell_type": "code",
   "execution_count": 9,
   "id": "fd0d9c41-0564-4413-ad41-d735b1044e5a",
   "metadata": {},
   "outputs": [],
   "source": [
    "inner_join.to_csv('../data/done_proto.csv', index=False)  \n",
    "outer_join.to_csv('../data/to_do_proto.csv', index=False)  "
   ]
  },
  {
   "cell_type": "code",
   "execution_count": null,
   "id": "69b53a24-dd63-4b4b-857b-018c0e999fd2",
   "metadata": {},
   "outputs": [],
   "source": []
  }
 ],
 "metadata": {
  "kernelspec": {
   "display_name": "Python 3 (ipykernel)",
   "language": "python",
   "name": "python3"
  },
  "language_info": {
   "codemirror_mode": {
    "name": "ipython",
    "version": 3
   },
   "file_extension": ".py",
   "mimetype": "text/x-python",
   "name": "python",
   "nbconvert_exporter": "python",
   "pygments_lexer": "ipython3",
   "version": "3.11.10"
  }
 },
 "nbformat": 4,
 "nbformat_minor": 5
}
