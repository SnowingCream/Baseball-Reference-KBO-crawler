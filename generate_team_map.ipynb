{
 "cells": [
  {
   "cell_type": "code",
   "execution_count": 1,
   "id": "6e538dc2-81d9-4a74-819d-b4d94decaf42",
   "metadata": {},
   "outputs": [],
   "source": [
    "from bs4 import BeautifulSoup as BS\n",
    "from session import Session \n",
    "import csv"
   ]
  },
  {
   "cell_type": "code",
   "execution_count": 2,
   "id": "44bbdfec-4300-4d44-ba01-703078a26329",
   "metadata": {},
   "outputs": [],
   "source": [
    "session = Session()"
   ]
  },
  {
   "cell_type": "code",
   "execution_count": 3,
   "id": "5d849f76-4719-4c0d-b8a6-7104c52fd0a3",
   "metadata": {},
   "outputs": [],
   "source": [
    "url = \"https://www.baseball-reference.com/register/league.cgi?code=KBO&class=Fgn\" # starting page that contains all KBO teams\n",
    "front_url = \"https://www.baseball-reference.com\" # front part of URL in which hrefs will be concatenated on."
   ]
  },
  {
   "cell_type": "code",
   "execution_count": 4,
   "id": "fe584140-323c-46b6-9774-9084c1c473e9",
   "metadata": {},
   "outputs": [],
   "source": [
    "team_data = session.fetch(url).content.decode(\"utf-8\")"
   ]
  },
  {
   "cell_type": "code",
   "execution_count": 5,
   "id": "fce6a8e2-5b10-4b2c-aca2-b91376cbcb56",
   "metadata": {},
   "outputs": [],
   "source": [
    "years = BS(team_data).find_all('tr')[1:] # skip header row"
   ]
  },
  {
   "cell_type": "code",
   "execution_count": 6,
   "id": "f4c3d8da-45ae-4dd7-9feb-c6bc2594a1f1",
   "metadata": {},
   "outputs": [],
   "source": [
    "with open('team_url_map.csv', 'w', newline='') as file:\n",
    "\n",
    "    writer = csv.writer(file)\n",
    "    \n",
    "    header = [\"name\", \"year\", \"url\"]\n",
    "    writer.writerow(header)\n",
    "\n",
    "    for year_data in years:\n",
    "        year, teams = year_data.find_all('a')[0].text, year_data.find_all('a')[1:]\n",
    "\n",
    "        for team in teams:\n",
    "            writer.writerow([year, team.text, front_url + team['href']])"
   ]
  },
  {
   "cell_type": "code",
   "execution_count": null,
   "id": "f264ac9e-b91c-4c13-b929-fe8b7585729b",
   "metadata": {},
   "outputs": [],
   "source": []
  }
 ],
 "metadata": {
  "kernelspec": {
   "display_name": "Python 3 (ipykernel)",
   "language": "python",
   "name": "python3"
  },
  "language_info": {
   "codemirror_mode": {
    "name": "ipython",
    "version": 3
   },
   "file_extension": ".py",
   "mimetype": "text/x-python",
   "name": "python",
   "nbconvert_exporter": "python",
   "pygments_lexer": "ipython3",
   "version": "3.9.18"
  }
 },
 "nbformat": 4,
 "nbformat_minor": 5
}
